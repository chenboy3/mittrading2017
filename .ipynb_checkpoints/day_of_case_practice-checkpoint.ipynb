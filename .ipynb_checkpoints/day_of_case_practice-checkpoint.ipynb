{
 "cells": [
  {
   "cell_type": "markdown",
   "metadata": {},
   "source": [
    "**README**: Information about notebook\n",
    "\n",
    "This is a starter notebook that will be provided to you on competition day that provides boilerplate code to load all of the data (both the sample data and the data for each case as they go live). Since this notebook is mainly for you to get acquianted with loading/manipulating data, you will be able to access the sample data and data from any case. However on competition day, you will only be able to access data from the current case that is live. If you want to use a different statistical analysis framework, you can also download the zip files containing all the data that can be accessed from this notebook from the website: http://18.216.4.171:8080/ and write similar boilerplate code yourself. On the day of the competition, you will be able to access the sample data and data from each case as it goes live as a downloadable zip file."
   ]
  },
  {
   "cell_type": "code",
   "execution_count": 46,
   "metadata": {
    "collapsed": true
   },
   "outputs": [],
   "source": [
    "import sys\n",
    "if sys.version_info[0] < 3: \n",
    "    from StringIO import StringIO\n",
    "else:\n",
    "    from io import StringIO\n",
    "    \n",
    "# Make sure you have the following libaries installed.\n",
    "# Can be installed with `pip install` or `conda install`\n",
    "# on terminal if you have pip or conda on your machine.\n",
    "import pandas as pd\n",
    "import requests"
   ]
  },
  {
   "cell_type": "code",
   "execution_count": 47,
   "metadata": {
    "collapsed": true
   },
   "outputs": [],
   "source": [
    "#This cell contains logic for \n",
    "base_url = 'http://18.216.4.171:8080'\n",
    "import_url = '/data/'\n",
    "sample_import_url = '/public/sample_data/'\n",
    "submit_url = '/submissions/new'\n",
    "def get_import_url(case_number, signal_name):\n",
    "    return base_url + import_url + str(case_number) + '/' + signal_name\n",
    "\n",
    "def get_sample_import_url(signal_name):\n",
    "    return base_url + sample_import_url + signal_name + '.csv'\n",
    "\n",
    "def get_submit_url():\n",
    "    return base_url + submit_url\n",
    "\n",
    "def get_signal_list():\n",
    "    return ['A', 'B', 'C', 'D', 'E']"
   ]
  },
  {
   "cell_type": "code",
   "execution_count": 52,
   "metadata": {
    "collapsed": true
   },
   "outputs": [],
   "source": [
    "#This class helps load data (sample data and case data) \n",
    "#and also allows you to submit prediction intervals programmatically\n",
    "class DayOf(object):\n",
    "    \n",
    "    def __init__(self, credentials):\n",
    "        '''\n",
    "        Initializes object with your team credentials\n",
    "        Will not be able to submit data to our server if a valid\n",
    "        set of credentials is not passed to this constructor\n",
    "        '''\n",
    "        self.team_credentials = credentials\n",
    "\n",
    "    def load_data(self, case_number):\n",
    "        '''\n",
    "        Use this function to import data for case_number\n",
    "        Note: will only be able to import data for a case while a case is active\n",
    "        Alternatively, you can visit the URL given by `get_import_url(case_number)`\n",
    "            and directly download the data for that case as a csv file\n",
    "        Returns a dict with keys corresponding to signal names and values \n",
    "            as a pandas DataFrame\n",
    "        The fields of each pandas DataFrame are\n",
    "            time_step     (contains time step index,            integer)\n",
    "            bid_size      (total number of bids,                float  )\n",
    "            ask_size      (total number of asks,                float  )\n",
    "            bid_exec      (number of executions at bid price,   float  )\n",
    "            ask_exec      (number of executions at ask price,   float  )\n",
    "            spread        (spread between bid/ask prices,       float  ) \n",
    "            price         (contains stock price,                float  ) \n",
    "        '''\n",
    "        result_data = {}\n",
    "        for signal_name in get_signal_list():\n",
    "            request_data = requests.get(get_import_url(case_number, signal_name))\n",
    "            if not request_data.status_code == 200:\n",
    "                print('Error: cannot load data for ' + \n",
    "                      str(case_number) + signal_name + ' at this time')\n",
    "                return result_data\n",
    "            loaded_request_data = StringIO(request_data.text)\n",
    "            result_data[signal_name] = pd.read_csv(loaded_request_data)\n",
    "\n",
    "        return result_data\n",
    "    \n",
    "    def submit_data(self, case_number, signal_name, lower_bound, upper_bound):\n",
    "        '''\n",
    "        Parameters should be self-explanatory\n",
    "        Use this method to submit your guesses to our server\n",
    "        You can also do this directly on our website at `base_url`\n",
    "        Will raise an error if not your data wasn't submitted\n",
    "        '''\n",
    "        submission_data = {\n",
    "            'team_credentials': self.team_credentials,\n",
    "            'submission_for':   case_number,\n",
    "            'signal':           signal_name,\n",
    "            'lower_bound':      lower_bound,\n",
    "            'upper_bound':      upper_bound\n",
    "        }\n",
    "        request_data = requests.post(get_submit_url(), submission_data)\n",
    "        request_datadict = request_data.json()\n",
    "        if not request_datadict['status'] == 'success':\n",
    "            raise RuntimeError(request_datadict['reason'])\n",
    "        "
   ]
  },
  {
   "cell_type": "code",
   "execution_count": 53,
   "metadata": {
    "collapsed": true
   },
   "outputs": [],
   "source": [
    "# Initalizes a DayOf instance as D\n",
    "D = DayOf('Insert your team credentials here')\n",
    "#on the day of competition, you will need to insert valid credentials here, which will be emailed out to you,\n",
    "#to submit your intervals (if you want to submit it programmatically)\n",
    "#However to retrieve data only, you do not need valid credentials"
   ]
  },
  {
   "cell_type": "markdown",
   "metadata": {},
   "source": [
    "Running the cell below will populate sample_data with the sample data on our server so you can build your models. For format information, see DayOf.load_data above. Note that for practice purposes, prices are not correlated with the features at all (so don't be surprised if all of your modeling attempts fail)! The point of this notebook is to help you get familiarized with getting/manipulating the data and submitting predictions."
   ]
  },
  {
   "cell_type": "code",
   "execution_count": 54,
   "metadata": {
    "collapsed": true
   },
   "outputs": [],
   "source": [
    "sample_data = {}\n",
    "for signal_name in get_signal_list():\n",
    "    request_data = requests.get(get_sample_import_url(signal_name))\n",
    "    if not request_data.status_code == 200:\n",
    "        print('Error: cannot load data for ' + \n",
    "              signal_name + ' at this time')\n",
    "        continue\n",
    "    loaded_request_data = StringIO(request_data.text)\n",
    "    sample_data[signal_name] = pd.read_csv(loaded_request_data)\n",
    "    # You can convert this pandas dataframe into a numpy array\n",
    "    # with sample_data[signal_name].values"
   ]
  },
  {
   "cell_type": "markdown",
   "metadata": {},
   "source": [
    "To load data for a **case number** 1 and store in `case1_data`, do\n",
    "```python\n",
    "case1_data = D.load_data(1)\n",
    "```\n",
    "\n",
    "To submit **lower bound** = 5.1 and **upper bound** = 5.9 for **case number** 1 and **stock name** A, do\n",
    "```python\n",
    "D.submit_data(1, 'A', 5.1, 5.9)\n",
    "```\n",
    "Multiple submissions are acceptable. We will only consider your latest submission within the time limit of the case.\n",
    "You can also submit your answers on a gui interface at `http://18.216.4.171:8080/`."
   ]
  },
  {
   "cell_type": "markdown",
   "metadata": {},
   "source": [
    "**PRACTICE ONLY**\n",
    "\n",
    "Currently, you will be able to access all of the data from all of the cases (each distinct 5 minute period is referred to as a case). On competition day, you will only be able to access the sample data and data from the currently active case. Allowing you to view data from all the different cases will allow you to familiarize yourself with the format for the case data and submission format."
   ]
  },
  {
   "cell_type": "code",
   "execution_count": 64,
   "metadata": {
    "collapsed": false
   },
   "outputs": [
    {
     "name": "stdout",
     "output_type": "stream",
     "text": [
      "Head for stock A\n",
      "   time_step  bid_size  ask_size  bid_exec  ask_exec  spread   price\n",
      "0       1000   95748.0   51629.0    6063.0    4331.0    0.06  109.39\n",
      "1       1001  120294.0   42059.0   25921.0    1307.0    0.06  109.88\n",
      "2       1002   93781.0   43366.0     579.0    4797.0    0.06  109.54\n",
      "3       1003   90865.0   37192.0   11788.0    2756.0    0.07  109.94\n",
      "4       1004   83042.0   44859.0    1477.0      95.0    0.07  109.89\n",
      "Tail for stock A\n",
      "    time_step  bid_size  ask_size  bid_exec  ask_exec  spread   price\n",
      "45       1045   83648.0   85935.0    7773.0   14873.0    0.06  111.21\n",
      "46       1046   91629.0   70959.0    2592.0    2456.0    0.08  110.98\n",
      "47       1047   94729.0   63259.0   11533.0     205.0    0.07  111.27\n",
      "48       1048   95408.0   61754.0    7134.0    9932.0    0.09  111.60\n",
      "49       1049       NaN       NaN       NaN       NaN     NaN     NaN\n"
     ]
    }
   ],
   "source": [
    "case1_data = D.load_data(1)\n",
    "#there are 50 ticks of data for each stock, of which only 49 contain information\n",
    "#notice that the last tick contains no values for the features and for the price of the stock,\n",
    "#as the price is what you're trying to predict\n",
    "print(\"Head for stock A\")\n",
    "print (case1_data['A'].head()) #show the top of the dataframe containing data for stock A in case 1\n",
    "print(\"Tail for stock A\")\n",
    "print (case1_data['A'].tail()) #show the bottom of the dataframe containing data for stock A in case 1"
   ]
  },
  {
   "cell_type": "markdown",
   "metadata": {},
   "source": [
    "An example of something one might do with the data is given below:\n",
    "\n",
    "Say we're trying to train a model for stock A: we might want to regress the log return from time t-1 to time t with the features at time t. Obviously with this data, since the prices are randomly generated, so the log returns are normally distributed, there will be no correlation between the log returns and the signals. But in general, you might expect that relationships such as these will hold."
   ]
  },
  {
   "cell_type": "code",
   "execution_count": 79,
   "metadata": {
    "collapsed": false
   },
   "outputs": [
    {
     "name": "stdout",
     "output_type": "stream",
     "text": [
      "0.0693524123371\n",
      "Wow our r^2 sucks because we're trying to predict random noise!\n"
     ]
    }
   ],
   "source": [
    "import numpy as np\n",
    "A_prices = sample_data['A']['price'].values\n",
    "A_log_returns = np.log(A_prices[1:]) - np.log(A_prices[:-1]) \n",
    "feature_cols = sample_data['A'].columns[1:6] #only columns 1-5 inclusive have relevant features\n",
    "A_features = sample_data['A'][feature_cols].values[:-1] #don't want to include last row in features\n",
    "\n",
    "from sklearn.linear_model import LinearRegression #may need to install this\n",
    "# See http://scikit-learn.org/stable/modules/generated/sklearn.linear_model.LinearRegression.html\n",
    "model = LinearRegression()\n",
    "X_train = A_features[:-10] #features\n",
    "y_train = A_log_returns[:-10] #what we want to predict\n",
    "X_test = A_features[-10:]\n",
    "y_test = A_log_returns[-10:]\n",
    "model.fit(X_train, y_train)\n",
    "print(model.score(X_test, y_test)) #print r^2 of predicting on X_test with true values\n",
    "print('Wow our r^2 sucks because we\\'re trying to predict random noise!')"
   ]
  }
 ],
 "metadata": {
  "kernelspec": {
   "display_name": "Python 3",
   "language": "python",
   "name": "python3"
  },
  "language_info": {
   "codemirror_mode": {
    "name": "ipython",
    "version": 3
   },
   "file_extension": ".py",
   "mimetype": "text/x-python",
   "name": "python",
   "nbconvert_exporter": "python",
   "pygments_lexer": "ipython3",
   "version": "3.6.0"
  }
 },
 "nbformat": 4,
 "nbformat_minor": 2
}
